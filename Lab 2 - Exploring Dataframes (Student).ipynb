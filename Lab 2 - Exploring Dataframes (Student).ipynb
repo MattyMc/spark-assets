{
 "cells": [
  {
   "cell_type": "markdown",
   "metadata": {},
   "source": [
    "# Introduction to Dataframes\n",
    "\n",
    "We've now learned about RDDs, now lets explore Dataframes! Please also download the pokemon.csv data that we will use in this tutorial. You will need to upload the pokemon.csv data to DSx in order to get started. You should be using Spark 2.1.\n",
    "\n",
    "In this introduction, we will see how to use the dataframe APIs to filter and select data, as well as explore what's available through Spark's SQL libraries."
   ]
  },
  {
   "cell_type": "code",
   "execution_count": 3,
   "metadata": {
    "collapsed": false
   },
   "outputs": [
    {
     "data": {
      "text/plain": [
       "[Row(#=1, Name=u'Bulbasaur', Type 1=u'Grass', Type 2=u'Poison', Total=318, HP=45, Attack=49, Defense=49, Sp. Atk=65, Sp. Def=65, Speed=45, Generation=1, Legendary=False),\n",
       " Row(#=2, Name=u'Ivysaur', Type 1=u'Grass', Type 2=u'Poison', Total=405, HP=60, Attack=62, Defense=63, Sp. Atk=80, Sp. Def=80, Speed=60, Generation=1, Legendary=False),\n",
       " Row(#=3, Name=u'Venusaur', Type 1=u'Grass', Type 2=u'Poison', Total=525, HP=80, Attack=82, Defense=83, Sp. Atk=100, Sp. Def=100, Speed=80, Generation=1, Legendary=False),\n",
       " Row(#=3, Name=u'VenusaurMega Venusaur', Type 1=u'Grass', Type 2=u'Poison', Total=625, HP=80, Attack=100, Defense=123, Sp. Atk=122, Sp. Def=120, Speed=80, Generation=1, Legendary=False),\n",
       " Row(#=4, Name=u'Charmander', Type 1=u'Fire', Type 2=None, Total=309, HP=39, Attack=52, Defense=43, Sp. Atk=60, Sp. Def=50, Speed=65, Generation=1, Legendary=False)]"
      ]
     },
     "execution_count": 3,
     "metadata": {},
     "output_type": "execute_result"
    }
   ],
   "source": [
    "# Lets read in the data as a dataframe into Spark.\n"
   ]
  },
  {
   "cell_type": "code",
   "execution_count": 6,
   "metadata": {
    "collapsed": false
   },
   "outputs": [
    {
     "name": "stdout",
     "output_type": "stream",
     "text": [
      "root\n",
      " |-- #: integer (nullable = true)\n",
      " |-- Name: string (nullable = true)\n",
      " |-- Type 1: string (nullable = true)\n",
      " |-- Type 2: string (nullable = true)\n",
      " |-- Total: integer (nullable = true)\n",
      " |-- HP: integer (nullable = true)\n",
      " |-- Attack: integer (nullable = true)\n",
      " |-- Defense: integer (nullable = true)\n",
      " |-- Sp. Atk: integer (nullable = true)\n",
      " |-- Sp. Def: integer (nullable = true)\n",
      " |-- Speed: integer (nullable = true)\n",
      " |-- Generation: integer (nullable = true)\n",
      " |-- Legendary: boolean (nullable = true)\n",
      "\n"
     ]
    }
   ],
   "source": []
  },
  {
   "cell_type": "markdown",
   "metadata": {},
   "source": [
    "#### Does the schema match what we would expect from [the desccription](https://www.kaggle.com/abcsds/pokemon)? If not, add the appropriate arguments to `read.csv` above."
   ]
  },
  {
   "cell_type": "markdown",
   "metadata": {},
   "source": [
    "### Filtering Data\n",
    "\n",
    "Lets explore how we can use Spark's APIs to filter or selected data as appropriate while using Python's comparison operators."
   ]
  },
  {
   "cell_type": "code",
   "execution_count": 9,
   "metadata": {
    "collapsed": false
   },
   "outputs": [
    {
     "name": "stdout",
     "output_type": "stream",
     "text": [
      "+---+--------------------+------+------+-----+---+------+-------+-------+-------+-----+----------+---------+\n",
      "|  #|                Name|Type 1|Type 2|Total| HP|Attack|Defense|Sp. Atk|Sp. Def|Speed|Generation|Legendary|\n",
      "+---+--------------------+------+------+-----+---+------+-------+-------+-------+-----+----------+---------+\n",
      "|  1|           Bulbasaur| Grass|Poison|  318| 45|    49|     49|     65|     65|   45|         1|    false|\n",
      "|  2|             Ivysaur| Grass|Poison|  405| 60|    62|     63|     80|     80|   60|         1|    false|\n",
      "|  3|            Venusaur| Grass|Poison|  525| 80|    82|     83|    100|    100|   80|         1|    false|\n",
      "|  3|VenusaurMega Venu...| Grass|Poison|  625| 80|   100|    123|    122|    120|   80|         1|    false|\n",
      "|  4|          Charmander|  Fire|  null|  309| 39|    52|     43|     60|     50|   65|         1|    false|\n",
      "|  5|          Charmeleon|  Fire|  null|  405| 58|    64|     58|     80|     65|   80|         1|    false|\n",
      "|  6|           Charizard|  Fire|Flying|  534| 78|    84|     78|    109|     85|  100|         1|    false|\n",
      "|  6|CharizardMega Cha...|  Fire|Dragon|  634| 78|   130|    111|    130|     85|  100|         1|    false|\n",
      "|  6|CharizardMega Cha...|  Fire|Flying|  634| 78|   104|     78|    159|    115|  100|         1|    false|\n",
      "|  7|            Squirtle| Water|  null|  314| 44|    48|     65|     50|     64|   43|         1|    false|\n",
      "|  8|           Wartortle| Water|  null|  405| 59|    63|     80|     65|     80|   58|         1|    false|\n",
      "|  9|           Blastoise| Water|  null|  530| 79|    83|    100|     85|    105|   78|         1|    false|\n",
      "|  9|BlastoiseMega Bla...| Water|  null|  630| 79|   103|    120|    135|    115|   78|         1|    false|\n",
      "| 10|            Caterpie|   Bug|  null|  195| 45|    30|     35|     20|     20|   45|         1|    false|\n",
      "| 11|             Metapod|   Bug|  null|  205| 50|    20|     55|     25|     25|   30|         1|    false|\n",
      "| 12|          Butterfree|   Bug|Flying|  395| 60|    45|     50|     90|     80|   70|         1|    false|\n",
      "| 13|              Weedle|   Bug|Poison|  195| 40|    35|     30|     20|     20|   50|         1|    false|\n",
      "| 14|              Kakuna|   Bug|Poison|  205| 45|    25|     50|     25|     25|   35|         1|    false|\n",
      "| 15|            Beedrill|   Bug|Poison|  395| 65|    90|     40|     45|     80|   75|         1|    false|\n",
      "| 15|BeedrillMega Beed...|   Bug|Poison|  495| 65|   150|     40|     15|     80|  145|         1|    false|\n",
      "+---+--------------------+------+------+-----+---+------+-------+-------+-------+-----+----------+---------+\n",
      "only showing top 20 rows\n",
      "\n"
     ]
    }
   ],
   "source": [
    "# Lets show the first 20 rows (.show())\n"
   ]
  },
  {
   "cell_type": "code",
   "execution_count": 10,
   "metadata": {
    "collapsed": false
   },
   "outputs": [
    {
     "name": "stdout",
     "output_type": "stream",
     "text": [
      "+---+-------+--------+------+-----+---+------+-------+-------+-------+-----+----------+---------+\n",
      "|  #|   Name|  Type 1|Type 2|Total| HP|Attack|Defense|Sp. Atk|Sp. Def|Speed|Generation|Legendary|\n",
      "+---+-------+--------+------+-----+---+------+-------+-------+-------+-----+----------+---------+\n",
      "| 25|Pikachu|Electric|  null|  320| 35|    55|     40|     50|     50|   90|         1|    false|\n",
      "+---+-------+--------+------+-----+---+------+-------+-------+-------+-----+----------+---------+\n",
      "\n"
     ]
    }
   ],
   "source": [
    "# Lets look at Pikachu's stats by filtering out for Pikachu. \n"
   ]
  },
  {
   "cell_type": "code",
   "execution_count": 21,
   "metadata": {
    "collapsed": false
   },
   "outputs": [
    {
     "name": "stdout",
     "output_type": "stream",
     "text": [
      "+---+----------+--------+------+-----+---+------+-------+-------+-------+-----+----------+---------+\n",
      "|  #|      Name|  Type 1|Type 2|Total| HP|Attack|Defense|Sp. Atk|Sp. Def|Speed|Generation|Legendary|\n",
      "+---+----------+--------+------+-----+---+------+-------+-------+-------+-----+----------+---------+\n",
      "|  4|Charmander|    Fire|  null|  309| 39|    52|     43|     60|     50|   65|         1|    false|\n",
      "| 25|   Pikachu|Electric|  null|  320| 35|    55|     40|     50|     50|   90|         1|    false|\n",
      "+---+----------+--------+------+-----+---+------+-------+-------+-------+-----+----------+---------+\n",
      "\n"
     ]
    }
   ],
   "source": [
    "# Lets look for Pokemon named with Pikachu or Charmander\n",
    "#  NOTE: Brackets are required!\n"
   ]
  },
  {
   "cell_type": "code",
   "execution_count": 22,
   "metadata": {
    "collapsed": false
   },
   "outputs": [
    {
     "name": "stdout",
     "output_type": "stream",
     "text": [
      "+---+--------------------+------+------+-----+---+------+-------+-------+-------+-----+----------+---------+\n",
      "|  #|                Name|Type 1|Type 2|Total| HP|Attack|Defense|Sp. Atk|Sp. Def|Speed|Generation|Legendary|\n",
      "+---+--------------------+------+------+-----+---+------+-------+-------+-------+-----+----------+---------+\n",
      "|  1|           Bulbasaur| Grass|Poison|  318| 45|    49|     49|     65|     65|   45|         1|    false|\n",
      "|  2|             Ivysaur| Grass|Poison|  405| 60|    62|     63|     80|     80|   60|         1|    false|\n",
      "|  3|            Venusaur| Grass|Poison|  525| 80|    82|     83|    100|    100|   80|         1|    false|\n",
      "|  3|VenusaurMega Venu...| Grass|Poison|  625| 80|   100|    123|    122|    120|   80|         1|    false|\n",
      "|  5|          Charmeleon|  Fire|  null|  405| 58|    64|     58|     80|     65|   80|         1|    false|\n",
      "|  6|           Charizard|  Fire|Flying|  534| 78|    84|     78|    109|     85|  100|         1|    false|\n",
      "|  6|CharizardMega Cha...|  Fire|Dragon|  634| 78|   130|    111|    130|     85|  100|         1|    false|\n",
      "|  6|CharizardMega Cha...|  Fire|Flying|  634| 78|   104|     78|    159|    115|  100|         1|    false|\n",
      "|  7|            Squirtle| Water|  null|  314| 44|    48|     65|     50|     64|   43|         1|    false|\n",
      "|  8|           Wartortle| Water|  null|  405| 59|    63|     80|     65|     80|   58|         1|    false|\n",
      "|  9|           Blastoise| Water|  null|  530| 79|    83|    100|     85|    105|   78|         1|    false|\n",
      "|  9|BlastoiseMega Bla...| Water|  null|  630| 79|   103|    120|    135|    115|   78|         1|    false|\n",
      "| 10|            Caterpie|   Bug|  null|  195| 45|    30|     35|     20|     20|   45|         1|    false|\n",
      "| 11|             Metapod|   Bug|  null|  205| 50|    20|     55|     25|     25|   30|         1|    false|\n",
      "| 12|          Butterfree|   Bug|Flying|  395| 60|    45|     50|     90|     80|   70|         1|    false|\n",
      "| 13|              Weedle|   Bug|Poison|  195| 40|    35|     30|     20|     20|   50|         1|    false|\n",
      "| 14|              Kakuna|   Bug|Poison|  205| 45|    25|     50|     25|     25|   35|         1|    false|\n",
      "| 15|            Beedrill|   Bug|Poison|  395| 65|    90|     40|     45|     80|   75|         1|    false|\n",
      "| 15|BeedrillMega Beed...|   Bug|Poison|  495| 65|   150|     40|     15|     80|  145|         1|    false|\n",
      "| 16|              Pidgey|Normal|Flying|  251| 40|    45|     40|     35|     35|   56|         1|    false|\n",
      "+---+--------------------+------+------+-----+---+------+-------+-------+-------+-----+----------+---------+\n",
      "only showing top 20 rows\n",
      "\n"
     ]
    }
   ],
   "source": [
    "# Create a new dataframe for Pokemon with HP that is at least 40 \n"
   ]
  },
  {
   "cell_type": "code",
   "execution_count": 30,
   "metadata": {
    "collapsed": false
   },
   "outputs": [
    {
     "name": "stdout",
     "output_type": "stream",
     "text": [
      "+---+----------+--------+--------+-----+---+------+-------+-------+-------+-----+----------+---------+\n",
      "|  #|      Name|  Type 1|  Type 2|Total| HP|Attack|Defense|Sp. Atk|Sp. Def|Speed|Generation|Legendary|\n",
      "+---+----------+--------+--------+-----+---+------+-------+-------+-------+-----+----------+---------+\n",
      "|153|   Bayleef|   Grass|    null|  405| 60|    62|     80|     63|     80|   60|         2|    false|\n",
      "|154|  Meganium|   Grass|    null|  525| 80|    82|    100|     83|    100|   80|         2|    false|\n",
      "|156|   Quilava|    Fire|    null|  405| 58|    64|     58|     80|     65|   80|         2|    false|\n",
      "|157|Typhlosion|    Fire|    null|  534| 78|    84|     78|    109|     85|  100|         2|    false|\n",
      "|159|  Croconaw|   Water|    null|  405| 65|    80|     80|     59|     63|   58|         2|    false|\n",
      "|160|Feraligatr|   Water|    null|  530| 85|   105|    100|     79|     83|   78|         2|    false|\n",
      "|162|    Furret|  Normal|    null|  415| 85|    76|     64|     45|     55|   90|         2|    false|\n",
      "|163|  Hoothoot|  Normal|  Flying|  262| 60|    30|     30|     36|     56|   50|         2|    false|\n",
      "|164|   Noctowl|  Normal|  Flying|  442|100|    50|     50|     76|     96|   70|         2|    false|\n",
      "|166|    Ledian|     Bug|  Flying|  390| 55|    35|     50|     55|    110|   85|         2|    false|\n",
      "|168|   Ariados|     Bug|  Poison|  390| 70|    90|     70|     60|     60|   40|         2|    false|\n",
      "|169|    Crobat|  Poison|  Flying|  535| 85|    90|     80|     70|     80|  130|         2|    false|\n",
      "|170|  Chinchou|   Water|Electric|  330| 75|    38|     38|     56|     56|   67|         2|    false|\n",
      "|171|   Lanturn|   Water|Electric|  460|125|    58|     58|     76|     76|   67|         2|    false|\n",
      "|174| Igglybuff|  Normal|   Fairy|  210| 90|    30|     15|     40|     20|   15|         2|    false|\n",
      "|176|   Togetic|   Fairy|  Flying|  405| 55|    40|     85|     80|    105|   40|         2|    false|\n",
      "|178|      Xatu| Psychic|  Flying|  470| 65|    75|     70|     95|     70|   95|         2|    false|\n",
      "|179|    Mareep|Electric|    null|  280| 55|    40|     40|     65|     45|   35|         2|    false|\n",
      "|180|   Flaaffy|Electric|    null|  365| 70|    55|     55|     80|     60|   45|         2|    false|\n",
      "|181|  Ampharos|Electric|    null|  510| 90|    75|     85|    115|     90|   55|         2|    false|\n",
      "+---+----------+--------+--------+-----+---+------+-------+-------+-------+-----+----------+---------+\n",
      "only showing top 20 rows\n",
      "\n"
     ]
    }
   ],
   "source": [
    "# Find the Pokemon who have HP above 50 AND are not in the first Generation (ie. Generation != 1)\n"
   ]
  },
  {
   "cell_type": "markdown",
   "metadata": {},
   "source": [
    "#### How many Pokemon are there who satisfy the previous condition?\n",
    "\n",
    "I.e. where HP is above 50 and who are not in the first generation? "
   ]
  },
  {
   "cell_type": "code",
   "execution_count": 33,
   "metadata": {
    "collapsed": false
   },
   "outputs": [
    {
     "data": {
      "text/plain": [
       "476"
      ]
     },
     "execution_count": 33,
     "metadata": {},
     "output_type": "execute_result"
    }
   ],
   "source": []
  },
  {
   "cell_type": "markdown",
   "metadata": {},
   "source": [
    "## Ordering and Limits"
   ]
  },
  {
   "cell_type": "code",
   "execution_count": 11,
   "metadata": {
    "collapsed": false
   },
   "outputs": [
    {
     "name": "stdout",
     "output_type": "stream",
     "text": [
      "+---+--------+-------+-------+-----+---+------+-------+-------+-------+-----+----------+---------+\n",
      "|  #|    Name| Type 1| Type 2|Total| HP|Attack|Defense|Sp. Atk|Sp. Def|Speed|Generation|Legendary|\n",
      "+---+--------+-------+-------+-----+---+------+-------+-------+-------+-----+----------+---------+\n",
      "|113| Chansey| Normal|   null|  450|250|     5|      5|     35|    105|   50|         1|    false|\n",
      "|440| Happiny| Normal|   null|  220|100|     5|      5|     15|     65|   30|         4|    false|\n",
      "|242| Blissey| Normal|   null|  540|255|    10|     10|     75|    135|   55|         2|    false|\n",
      "| 63|    Abra|Psychic|   null|  310| 25|    20|     15|    105|     55|   90|         1|    false|\n",
      "|238|Smoochum|    Ice|Psychic|  305| 45|    30|     15|     85|     65|   65|         2|    false|\n",
      "+---+--------+-------+-------+-----+---+------+-------+-------+-------+-----+----------+---------+\n",
      "\n"
     ]
    }
   ],
   "source": [
    "# Find the 5 Pokemon with the strongest 'Defense' rating.\n"
   ]
  },
  {
   "cell_type": "markdown",
   "metadata": {},
   "source": [
    "#### Is the command above showing us the correct answer? If not, fix this below by adding the appropriate argument to `.orderby`"
   ]
  },
  {
   "cell_type": "code",
   "execution_count": 12,
   "metadata": {
    "collapsed": false
   },
   "outputs": [
    {
     "name": "stdout",
     "output_type": "stream",
     "text": [
      "+---+-------------------+------+------+-----+---+------+-------+-------+-------+-----+----------+---------+\n",
      "|  #|               Name|Type 1|Type 2|Total| HP|Attack|Defense|Sp. Atk|Sp. Def|Speed|Generation|Legendary|\n",
      "+---+-------------------+------+------+-----+---+------+-------+-------+-------+-----+----------+---------+\n",
      "|306|  AggronMega Aggron| Steel|  null|  630| 70|   140|    230|     60|     80|   50|         3|    false|\n",
      "|208|SteelixMega Steelix| Steel|Ground|  610| 75|   125|    230|     55|     95|   30|         2|    false|\n",
      "|213|            Shuckle|   Bug|  Rock|  505| 20|    10|    230|     10|    230|    5|         2|    false|\n",
      "|208|            Steelix| Steel|Ground|  510| 75|    85|    200|     55|     65|   30|         2|    false|\n",
      "|377|           Regirock|  Rock|  null|  580| 80|   100|    200|     50|    100|   50|         3|     true|\n",
      "+---+-------------------+------+------+-----+---+------+-------+-------+-------+-----+----------+---------+\n",
      "\n"
     ]
    }
   ],
   "source": [
    "# Fix the above here\n"
   ]
  },
  {
   "cell_type": "code",
   "execution_count": 18,
   "metadata": {
    "collapsed": false
   },
   "outputs": [
    {
     "name": "stdout",
     "output_type": "stream",
     "text": [
      "+-------------------+-------+\n",
      "|               Name|Defense|\n",
      "+-------------------+-------+\n",
      "|  AggronMega Aggron|    230|\n",
      "|SteelixMega Steelix|    230|\n",
      "|            Shuckle|    230|\n",
      "|            Steelix|    200|\n",
      "|           Regirock|    200|\n",
      "+-------------------+-------+\n",
      "\n"
     ]
    }
   ],
   "source": [
    "# Create a new dataframe with only the Name and Defense attribute of the 5 most defensive pokemon\n"
   ]
  },
  {
   "cell_type": "code",
   "execution_count": 37,
   "metadata": {
    "collapsed": false
   },
   "outputs": [
    {
     "name": "stdout",
     "output_type": "stream",
     "text": [
      "+--------------------+------+---------+\n",
      "|                Name|Attack|Legendary|\n",
      "+--------------------+------+---------+\n",
      "| MewtwoMega Mewtwo X|   190|     true|\n",
      "|HeracrossMega Her...|   185|    false|\n",
      "+--------------------+------+---------+\n",
      "\n"
     ]
    }
   ],
   "source": [
    "# Find the 'Legendary' (where Legendary=True) Pokemon with the highest Attack rating\n"
   ]
  },
  {
   "cell_type": "markdown",
   "metadata": {},
   "source": [
    "## Grouping"
   ]
  },
  {
   "cell_type": "code",
   "execution_count": 38,
   "metadata": {
    "collapsed": true
   },
   "outputs": [],
   "source": [
    "# You look at the documentation!"
   ]
  },
  {
   "cell_type": "markdown",
   "metadata": {},
   "source": [
    "### Practice! \n",
    "\n",
    "Here we will come up with some questions that we can ask of our data! "
   ]
  },
  {
   "cell_type": "code",
   "execution_count": null,
   "metadata": {
    "collapsed": true
   },
   "outputs": [],
   "source": [
    "\n"
   ]
  },
  {
   "cell_type": "code",
   "execution_count": 13,
   "metadata": {
    "collapsed": true
   },
   "outputs": [],
   "source": [
    "\n"
   ]
  },
  {
   "cell_type": "code",
   "execution_count": null,
   "metadata": {
    "collapsed": true
   },
   "outputs": [],
   "source": []
  },
  {
   "cell_type": "code",
   "execution_count": null,
   "metadata": {
    "collapsed": true
   },
   "outputs": [],
   "source": []
  },
  {
   "cell_type": "code",
   "execution_count": null,
   "metadata": {
    "collapsed": true
   },
   "outputs": [],
   "source": []
  },
  {
   "cell_type": "code",
   "execution_count": null,
   "metadata": {
    "collapsed": true
   },
   "outputs": [],
   "source": []
  },
  {
   "cell_type": "code",
   "execution_count": null,
   "metadata": {
    "collapsed": true
   },
   "outputs": [],
   "source": []
  },
  {
   "cell_type": "code",
   "execution_count": null,
   "metadata": {
    "collapsed": true
   },
   "outputs": [],
   "source": []
  }
 ],
 "metadata": {
  "anaconda-cloud": {},
  "kernelspec": {
   "display_name": "Python 2 with Spark 2.1",
   "language": "python",
   "name": "python2-spark21"
  },
  "language_info": {
   "codemirror_mode": {
    "name": "ipython",
    "version": 2
   },
   "file_extension": ".py",
   "mimetype": "text/x-python",
   "name": "python",
   "nbconvert_exporter": "python",
   "pygments_lexer": "ipython2",
   "version": "2.7.11"
  }
 },
 "nbformat": 4,
 "nbformat_minor": 1
}