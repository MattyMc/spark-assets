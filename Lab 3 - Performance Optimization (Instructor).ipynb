{
 "cells": [
  {
   "cell_type": "markdown",
   "metadata": {},
   "source": [
    "# Power of Spark w/ Instacart Dataset\n",
    "\n",
    "Instacart recently released over 30 million transactions from their online grocery store. Details of the release along with the dataset can be found [here](https://www.kaggle.com/c/instacart-market-basket-analysis).\n",
    "\n",
    "**Citation**  \n",
    "“The Instacart Online Grocery Shopping Dataset 2017”, Accessed from https://www.instacart.com/datasets/grocery-shopping-2017 on June 5th, 2017"
   ]
  },
  {
   "cell_type": "markdown",
   "metadata": {},
   "source": [
    "### Step 1: Access the data from the above link and upload to DSX. \n",
    "\n",
    "Note that the data is reasonably large (>500mb). Be sure to leave some time for the upload."
   ]
  },
  {
   "cell_type": "code",
   "execution_count": 1,
   "metadata": {
    "collapsed": false
   },
   "outputs": [
    {
     "data": {
      "text/plain": [
       "<pyspark.sql.session.SparkSession at 0x7f5e3e59e950>"
      ]
     },
     "execution_count": 1,
     "metadata": {},
     "output_type": "execute_result"
    }
   ],
   "source": [
    "spark"
   ]
  },
  {
   "cell_type": "markdown",
   "metadata": {},
   "source": [
    "### Step 2: Import the transactions list (order_products__prior.csv) and product names/descriptions (products.csv)"
   ]
  },
  {
   "cell_type": "code",
   "execution_count": 2,
   "metadata": {
    "collapsed": false
   },
   "outputs": [
    {
     "data": {
      "text/plain": [
       "[Row(department_id=u'1', department=u'frozen'),\n",
       " Row(department_id=u'2', department=u'other'),\n",
       " Row(department_id=u'3', department=u'bakery'),\n",
       " Row(department_id=u'4', department=u'produce'),\n",
       " Row(department_id=u'5', department=u'alcohol')]"
      ]
     },
     "execution_count": 2,
     "metadata": {},
     "output_type": "execute_result"
    }
   ],
   "source": [
    "from pyspark.sql import SparkSession\n",
    "\n",
    "# @hidden_cell\n",
    "# This function is used to setup the access of Spark to your Object Storage. The definition contains your credentials.\n",
    "# You might want to remove those credentials before you share your notebook.\n",
    "def set_hadoop_config_with_credentials_efcfdf24587941948e423d7c9fdd8ff6(name):\n",
    "    \"\"\"This function sets the Hadoop configuration so it is possible to\n",
    "    access data from Bluemix Object Storage using Spark\"\"\"\n",
    "\n",
    "    prefix = 'fs.swift.service.' + name\n",
    "    hconf = sc._jsc.hadoopConfiguration()\n",
    "    hconf.set(prefix + '.auth.url', 'https://identity.open.softlayer.com'+'/v3/auth/tokens')\n",
    "    hconf.set(prefix + '.auth.endpoint.prefix', 'endpoints')\n",
    "    hconf.set(prefix + '.tenant', '694a746300614629be7bdcfa60142623')\n",
    "    hconf.set(prefix + '.username', '9e80f89e74fe4f1fbe962bb1cac03ab9')\n",
    "    hconf.set(prefix + '.password', 'OqOVHe-.S,r7UX3~')\n",
    "    hconf.setInt(prefix + '.http.port', 8080)\n",
    "    hconf.set(prefix + '.region', 'dallas')\n",
    "    hconf.setBoolean(prefix + '.public', False)\n",
    "\n",
    "# you can choose any name\n",
    "name = 'keystone'\n",
    "set_hadoop_config_with_credentials_efcfdf24587941948e423d7c9fdd8ff6(name)\n",
    "\n",
    "spark = SparkSession.builder.getOrCreate()\n",
    "\n",
    "departments_df = spark.read\\\n",
    "  .format('org.apache.spark.sql.execution.datasources.csv.CSVFileFormat')\\\n",
    "  .option('header', 'true')\\\n",
    "  .load('swift://InstaCart.' + name + '/departments.csv')\n",
    "departments_df.take(5)"
   ]
  },
  {
   "cell_type": "code",
   "execution_count": 14,
   "metadata": {
    "collapsed": false
   },
   "outputs": [
    {
     "data": {
      "text/plain": [
       "[Row(product_id=u'1', product_name=u'Chocolate Sandwich Cookies', aisle_id=u'61', department_id=u'19'),\n",
       " Row(product_id=u'2', product_name=u'All-Seasons Salt', aisle_id=u'104', department_id=u'13'),\n",
       " Row(product_id=u'3', product_name=u'Robust Golden Unsweetened Oolong Tea', aisle_id=u'94', department_id=u'7'),\n",
       " Row(product_id=u'4', product_name=u'Smart Ones Classic Favorites Mini Rigatoni With Vodka Cream Sauce', aisle_id=u'38', department_id=u'1'),\n",
       " Row(product_id=u'5', product_name=u'Green Chile Anytime Sauce', aisle_id=u'5', department_id=u'13')]"
      ]
     },
     "execution_count": 14,
     "metadata": {},
     "output_type": "execute_result"
    }
   ],
   "source": [
    "products_df = spark.read\\\n",
    "  .format('org.apache.spark.sql.execution.datasources.csv.CSVFileFormat')\\\n",
    "  .option('header', 'true')\\\n",
    "  .load('swift://InstaCart.' + name + '/products.csv')\n",
    "products_df.take(5)"
   ]
  },
  {
   "cell_type": "code",
   "execution_count": 3,
   "metadata": {
    "collapsed": false
   },
   "outputs": [
    {
     "data": {
      "text/plain": [
       "[Row(order_id=u'2', product_id=u'33120', add_to_cart_order=u'1', reordered=u'1'),\n",
       " Row(order_id=u'2', product_id=u'28985', add_to_cart_order=u'2', reordered=u'1'),\n",
       " Row(order_id=u'2', product_id=u'9327', add_to_cart_order=u'3', reordered=u'0'),\n",
       " Row(order_id=u'2', product_id=u'45918', add_to_cart_order=u'4', reordered=u'1'),\n",
       " Row(order_id=u'2', product_id=u'30035', add_to_cart_order=u'5', reordered=u'0')]"
      ]
     },
     "execution_count": 3,
     "metadata": {},
     "output_type": "execute_result"
    }
   ],
   "source": [
    "order_products_df = spark.read\\\n",
    "  .format('org.apache.spark.sql.execution.datasources.csv.CSVFileFormat')\\\n",
    "  .option('header', 'true')\\\n",
    "  .load('swift://InstaCart.' + name + '/order_products__prior.csv')\n",
    "order_products_df.take(5)\n"
   ]
  },
  {
   "cell_type": "markdown",
   "metadata": {},
   "source": [
    "### Step 3: Look at the data!"
   ]
  },
  {
   "cell_type": "code",
   "execution_count": 4,
   "metadata": {
    "collapsed": false
   },
   "outputs": [
    {
     "name": "stdout",
     "output_type": "stream",
     "text": [
      "+--------+----------+-----------------+---------+\n",
      "|order_id|product_id|add_to_cart_order|reordered|\n",
      "+--------+----------+-----------------+---------+\n",
      "|       2|     33120|                1|        1|\n",
      "|       2|     28985|                2|        1|\n",
      "|       2|      9327|                3|        0|\n",
      "|       2|     45918|                4|        1|\n",
      "|       2|     30035|                5|        0|\n",
      "|       2|     17794|                6|        1|\n",
      "|       2|     40141|                7|        1|\n",
      "|       2|      1819|                8|        1|\n",
      "|       2|     43668|                9|        0|\n",
      "|       3|     33754|                1|        1|\n",
      "|       3|     24838|                2|        1|\n",
      "|       3|     17704|                3|        1|\n",
      "|       3|     21903|                4|        1|\n",
      "|       3|     17668|                5|        1|\n",
      "|       3|     46667|                6|        1|\n",
      "|       3|     17461|                7|        1|\n",
      "|       3|     32665|                8|        1|\n",
      "|       4|     46842|                1|        0|\n",
      "|       4|     26434|                2|        1|\n",
      "|       4|     39758|                3|        1|\n",
      "+--------+----------+-----------------+---------+\n",
      "only showing top 20 rows\n",
      "\n"
     ]
    }
   ],
   "source": [
    "order_products_df.show()"
   ]
  },
  {
   "cell_type": "markdown",
   "metadata": {},
   "source": [
    "### Establish some simple benchmarks for count and groupby"
   ]
  },
  {
   "cell_type": "code",
   "execution_count": 5,
   "metadata": {
    "collapsed": false
   },
   "outputs": [
    {
     "name": "stdout",
     "output_type": "stream",
     "text": [
      "CPU times: user 10.8 ms, sys: 5.19 ms, total: 16 ms\n",
      "Wall time: 24.2 s\n"
     ]
    },
    {
     "data": {
      "text/plain": [
       "32434489"
      ]
     },
     "execution_count": 5,
     "metadata": {},
     "output_type": "execute_result"
    }
   ],
   "source": [
    "%time order_products_df.count()"
   ]
  },
  {
   "cell_type": "markdown",
   "metadata": {},
   "source": [
    "### What are the most purchased products in the dataset? "
   ]
  },
  {
   "cell_type": "code",
   "execution_count": 16,
   "metadata": {
    "collapsed": false
   },
   "outputs": [
    {
     "name": "stdout",
     "output_type": "stream",
     "text": [
      "+----------+-----+--------------------+--------+-------------+\n",
      "|product_id|count|        product_name|aisle_id|department_id|\n",
      "+----------+-----+--------------------+--------+-------------+\n",
      "|     35004| 8200|Macaroni Shells &...|       4|            9|\n",
      "|     39581| 8987|French Vanilla Cr...|      53|           16|\n",
      "|      8433|   71|        Pronto Penne|     131|            9|\n",
      "|     11078| 3070|     Macaroni Elbows|     131|            9|\n",
      "|      7762| 1652|   Vodka Pasta Sauce|       9|            9|\n",
      "|     38223|  750|Stage 1 Just Swee...|      92|           18|\n",
      "|     28473| 1479|Wavy Original Pot...|     107|           19|\n",
      "|     28135|   55|Deli-Sliced Roast...|      81|           15|\n",
      "|     15269| 2874|Natural Medium Ch...|      21|           16|\n",
      "|     47140|  182|7OZ SAUSAGE GRAVY...|      52|            1|\n",
      "|     16974| 2773|Sea Salt Brown Ri...|     107|           19|\n",
      "|       691| 3151|Organic Promise S...|     121|           14|\n",
      "|     49079| 1063|Special K Vanilla...|     121|           14|\n",
      "|     44717| 1053|Organic Mini Swee...|     123|            4|\n",
      "|     41785|  324|Organic Nine Mixe...|      52|            1|\n",
      "|     29549|   34|Gallon Freezer Zi...|      85|           17|\n",
      "|      1090| 7460|Shells & Real Age...|       4|            9|\n",
      "|     48370| 3934|Sensitive Toilet ...|      54|           17|\n",
      "|     17427|  373| Uncured Beef Franks|     106|           12|\n",
      "|     20158|  511|           Tofu Firm|      14|           20|\n",
      "+----------+-----+--------------------+--------+-------------+\n",
      "only showing top 20 rows\n",
      "\n"
     ]
    }
   ],
   "source": [
    "order_products_df.groupBy(\"product_id\").count().join(products_df, on=\"product_id\").show()"
   ]
  },
  {
   "cell_type": "code",
   "execution_count": 17,
   "metadata": {
    "collapsed": false
   },
   "outputs": [
    {
     "name": "stdout",
     "output_type": "stream",
     "text": [
      "+----------+--------------------+------+\n",
      "|product_id|        product_name| count|\n",
      "+----------+--------------------+------+\n",
      "|     24852|              Banana|472565|\n",
      "|     13176|Bag of Organic Ba...|379450|\n",
      "|     21137|Organic Strawberries|264683|\n",
      "|     21903|Organic Baby Spinach|241921|\n",
      "|     47209|Organic Hass Avocado|213584|\n",
      "|     47766|     Organic Avocado|176815|\n",
      "|     47626|         Large Lemon|152657|\n",
      "|     16797|        Strawberries|142951|\n",
      "|     26209|               Limes|140627|\n",
      "|     27845|  Organic Whole Milk|137905|\n",
      "|     27966| Organic Raspberries|137057|\n",
      "|     22935|Organic Yellow Onion|113426|\n",
      "|     24964|      Organic Garlic|109778|\n",
      "|     45007|    Organic Zucchini|104823|\n",
      "|     39275| Organic Blueberries|100060|\n",
      "|     49683|      Cucumber Kirby| 97315|\n",
      "|     28204|  Organic Fuji Apple| 89632|\n",
      "|      5876|       Organic Lemon| 87746|\n",
      "|      8277|Apple Honeycrisp ...| 85020|\n",
      "|     40706|Organic Grape Tom...| 84255|\n",
      "+----------+--------------------+------+\n",
      "only showing top 20 rows\n",
      "\n"
     ]
    }
   ],
   "source": [
    "# The above didn't quite do it... we need to order.\n",
    "grouped_df = order_products_df.groupBy(\"product_id\").count().join(products_df, on=\"product_id\").orderBy(\"count\", ascending=False)\n",
    "grouped_df.select(\"product_id\", \"product_name\", \"count\").show()"
   ]
  },
  {
   "cell_type": "markdown",
   "metadata": {},
   "source": [
    "### Performance Optimization"
   ]
  },
  {
   "cell_type": "markdown",
   "metadata": {},
   "source": [
    "#### Add `order_products_df` and `products_df` as spark views (SQL tables)"
   ]
  },
  {
   "cell_type": "code",
   "execution_count": 18,
   "metadata": {
    "collapsed": false
   },
   "outputs": [],
   "source": [
    "order_products_df.createTempView(\"order_products\")\n",
    "products_df.createTempView(\"products\")"
   ]
  },
  {
   "cell_type": "markdown",
   "metadata": {},
   "source": [
    "#### Cache these tables"
   ]
  },
  {
   "cell_type": "code",
   "execution_count": 19,
   "metadata": {
    "collapsed": true
   },
   "outputs": [],
   "source": [
    "spark.catalog.cacheTable(\"order_products\")\n",
    "spark.catalog.cacheTable(\"products\")"
   ]
  },
  {
   "cell_type": "markdown",
   "metadata": {},
   "source": [
    "#### Point our dataframes towards these tables"
   ]
  },
  {
   "cell_type": "code",
   "execution_count": 21,
   "metadata": {
    "collapsed": true
   },
   "outputs": [],
   "source": [
    "order_products_df = spark.table(\"order_products\")\n",
    "products_df = spark.table(\"products\")"
   ]
  },
  {
   "cell_type": "markdown",
   "metadata": {},
   "source": [
    "### That was fast... lazy evaluation! "
   ]
  },
  {
   "cell_type": "code",
   "execution_count": 25,
   "metadata": {
    "collapsed": false
   },
   "outputs": [
    {
     "data": {
      "text/plain": [
       "49688"
      ]
     },
     "execution_count": 25,
     "metadata": {},
     "output_type": "execute_result"
    }
   ],
   "source": [
    "order_products_df.count()\n",
    "products_df.count()"
   ]
  },
  {
   "cell_type": "markdown",
   "metadata": {},
   "source": [
    "### Now, Lets try this again..."
   ]
  },
  {
   "cell_type": "code",
   "execution_count": 26,
   "metadata": {
    "collapsed": false
   },
   "outputs": [
    {
     "data": {
      "text/plain": [
       "32434489"
      ]
     },
     "execution_count": 26,
     "metadata": {},
     "output_type": "execute_result"
    }
   ],
   "source": [
    "order_products_df.count()"
   ]
  },
  {
   "cell_type": "code",
   "execution_count": 27,
   "metadata": {
    "collapsed": false
   },
   "outputs": [
    {
     "data": {
      "text/plain": [
       "49688"
      ]
     },
     "execution_count": 27,
     "metadata": {},
     "output_type": "execute_result"
    }
   ],
   "source": [
    "products_df.count()"
   ]
  },
  {
   "cell_type": "code",
   "execution_count": 28,
   "metadata": {
    "collapsed": false
   },
   "outputs": [
    {
     "name": "stdout",
     "output_type": "stream",
     "text": [
      "+----------+--------------------+------+\n",
      "|product_id|        product_name| count|\n",
      "+----------+--------------------+------+\n",
      "|     24852|              Banana|472565|\n",
      "|     13176|Bag of Organic Ba...|379450|\n",
      "|     21137|Organic Strawberries|264683|\n",
      "|     21903|Organic Baby Spinach|241921|\n",
      "|     47209|Organic Hass Avocado|213584|\n",
      "|     47766|     Organic Avocado|176815|\n",
      "|     47626|         Large Lemon|152657|\n",
      "|     16797|        Strawberries|142951|\n",
      "|     26209|               Limes|140627|\n",
      "|     27845|  Organic Whole Milk|137905|\n",
      "|     27966| Organic Raspberries|137057|\n",
      "|     22935|Organic Yellow Onion|113426|\n",
      "|     24964|      Organic Garlic|109778|\n",
      "|     45007|    Organic Zucchini|104823|\n",
      "|     39275| Organic Blueberries|100060|\n",
      "|     49683|      Cucumber Kirby| 97315|\n",
      "|     28204|  Organic Fuji Apple| 89632|\n",
      "|      5876|       Organic Lemon| 87746|\n",
      "|      8277|Apple Honeycrisp ...| 85020|\n",
      "|     40706|Organic Grape Tom...| 84255|\n",
      "+----------+--------------------+------+\n",
      "only showing top 20 rows\n",
      "\n"
     ]
    }
   ],
   "source": [
    "# Run our large group by command again\n",
    "grouped_df = order_products_df.groupBy(\"product_id\").count().join(products_df, on=\"product_id\").orderBy(\"count\", ascending=False)\n",
    "grouped_df.select(\"product_id\", \"product_name\", \"count\").show()"
   ]
  },
  {
   "cell_type": "markdown",
   "metadata": {
    "collapsed": true
   },
   "source": [
    "## MUCH BETTER :)"
   ]
  },
  {
   "cell_type": "code",
   "execution_count": null,
   "metadata": {
    "collapsed": true
   },
   "outputs": [],
   "source": []
  },
  {
   "cell_type": "code",
   "execution_count": null,
   "metadata": {
    "collapsed": true
   },
   "outputs": [],
   "source": []
  },
  {
   "cell_type": "code",
   "execution_count": null,
   "metadata": {
    "collapsed": true
   },
   "outputs": [],
   "source": []
  },
  {
   "cell_type": "code",
   "execution_count": null,
   "metadata": {
    "collapsed": true
   },
   "outputs": [],
   "source": []
  },
  {
   "cell_type": "code",
   "execution_count": null,
   "metadata": {
    "collapsed": true
   },
   "outputs": [],
   "source": []
  }
 ],
 "metadata": {
  "kernelspec": {
   "display_name": "Python 2 with Spark 2.1",
   "language": "python",
   "name": "python2-spark21"
  },
  "language_info": {
   "codemirror_mode": {
    "name": "ipython",
    "version": 2
   },
   "file_extension": ".py",
   "mimetype": "text/x-python",
   "name": "python",
   "nbconvert_exporter": "python",
   "pygments_lexer": "ipython2",
   "version": "2.7.11"
  }
 },
 "nbformat": 4,
 "nbformat_minor": 0
}